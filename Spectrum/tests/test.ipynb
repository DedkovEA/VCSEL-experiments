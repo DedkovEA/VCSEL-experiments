{
 "cells": [
  {
   "cell_type": "code",
   "execution_count": 1,
   "id": "f99de45d",
   "metadata": {},
   "outputs": [],
   "source": [
    "import ctypes"
   ]
  },
  {
   "cell_type": "code",
   "execution_count": 2,
   "id": "09d7dc20",
   "metadata": {},
   "outputs": [],
   "source": [
    "lib = ctypes.CDLL(\"./testclib.dll\")"
   ]
  },
  {
   "cell_type": "code",
   "execution_count": 3,
   "id": "b1d83463",
   "metadata": {},
   "outputs": [],
   "source": [
    "lib.Add.restype = ctypes.c_double\n",
    "lib.Add.argtypes = [ctypes.c_double,ctypes.c_double]"
   ]
  },
  {
   "cell_type": "code",
   "execution_count": 4,
   "id": "ee2a036a",
   "metadata": {},
   "outputs": [
    {
     "data": {
      "text/plain": [
       "float"
      ]
     },
     "execution_count": 4,
     "metadata": {},
     "output_type": "execute_result"
    }
   ],
   "source": [
    "type(lib.Add(3.3,4))"
   ]
  },
  {
   "cell_type": "code",
   "execution_count": 26,
   "id": "3c076ad7",
   "metadata": {},
   "outputs": [],
   "source": [
    "lib.AddArrays.restype = ctypes.POINTER(ctypes.c_double)\n",
    "#lib.AddArrays.argtypes = [(ctypes.c_double * 10),(ctypes.c_double * 10),ctypes.c_int]\n",
    "lib.AddArrays.argtypes = [ctypes.POINTER(ctypes.c_double),ctypes.POINTER(ctypes.c_double),ctypes.c_int]"
   ]
  },
  {
   "cell_type": "code",
   "execution_count": 27,
   "id": "145e6869",
   "metadata": {},
   "outputs": [],
   "source": [
    "arr1 = (ctypes.c_double * 11)(*[0.3*i for i in range(0,11)])\n",
    "arr2 = (ctypes.c_double * 11)(*[0.25*i for i in range(0,11)])"
   ]
  },
  {
   "cell_type": "code",
   "execution_count": 41,
   "id": "7f916224",
   "metadata": {},
   "outputs": [],
   "source": [
    "lib2.AddArrays.restype = ctypes.POINTER(ctypes.c_double)"
   ]
  },
  {
   "cell_type": "code",
   "execution_count": 42,
   "id": "7d581298",
   "metadata": {},
   "outputs": [],
   "source": [
    "ptr = ctypes.POINTER(ctypes.c_double)\n",
    "ptr = lib2.AddArrays(arr1, arr2, len(arr1))"
   ]
  },
  {
   "cell_type": "code",
   "execution_count": 43,
   "id": "d415e8e5",
   "metadata": {},
   "outputs": [
    {
     "name": "stdout",
     "output_type": "stream",
     "text": [
      "0.0\n",
      "0.55\n",
      "1.1\n",
      "1.65\n",
      "2.2\n",
      "2.75\n",
      "3.3\n",
      "3.85\n",
      "4.4\n",
      "4.949999999999999\n",
      "5.5\n"
     ]
    }
   ],
   "source": [
    "for i in range(11):\n",
    "    print(ptr[i])"
   ]
  },
  {
   "cell_type": "code",
   "execution_count": 22,
   "id": "449e6fb8",
   "metadata": {},
   "outputs": [
    {
     "data": {
      "text/plain": [
       "[__main__.c_double_Array_10, __main__.c_double_Array_10, ctypes.c_long]"
      ]
     },
     "execution_count": 22,
     "metadata": {},
     "output_type": "execute_result"
    }
   ],
   "source": [
    "lib.AddArrays.argtypes"
   ]
  },
  {
   "cell_type": "code",
   "execution_count": null,
   "id": "69c687b1",
   "metadata": {},
   "outputs": [],
   "source": [
    "lib.freeArray(ptr)"
   ]
  },
  {
   "cell_type": "code",
   "execution_count": 35,
   "id": "467fec6b",
   "metadata": {},
   "outputs": [
    {
     "data": {
      "text/plain": [
       "2.1"
      ]
     },
     "execution_count": 35,
     "metadata": {},
     "output_type": "execute_result"
    }
   ],
   "source": [
    "arr1[7]"
   ]
  },
  {
   "cell_type": "code",
   "execution_count": 40,
   "id": "a736769c",
   "metadata": {},
   "outputs": [],
   "source": [
    "lib2 = ctypes.CDLL(\"./tstlib2.dll\")"
   ]
  },
  {
   "cell_type": "code",
   "execution_count": null,
   "id": "2ad02695",
   "metadata": {},
   "outputs": [],
   "source": []
  }
 ],
 "metadata": {
  "kernelspec": {
   "display_name": "Python 3 (ipykernel)",
   "language": "python",
   "name": "python3"
  },
  "language_info": {
   "codemirror_mode": {
    "name": "ipython",
    "version": 3
   },
   "file_extension": ".py",
   "mimetype": "text/x-python",
   "name": "python",
   "nbconvert_exporter": "python",
   "pygments_lexer": "ipython3",
   "version": "3.11.4"
  }
 },
 "nbformat": 4,
 "nbformat_minor": 5
}
