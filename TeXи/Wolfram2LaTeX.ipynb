{
 "cells": [
  {
   "cell_type": "code",
   "execution_count": 2,
   "id": "3f5471a1",
   "metadata": {},
   "outputs": [
    {
     "name": "stdout",
     "output_type": "stream",
     "text": [
      "\\frac{-2 \\alpha  \\gamma_p+| \\gamma_d+2 \\alpha  \\gamma_p| +2 \\gp -\\gamma_d}{2 \\gp }\n"
     ]
    }
   ],
   "source": [
    "initial = r\"\\frac{-2 \\alpha  \\text{$\\gamma $p}+| \\text{$\\gamma $d}+2 \\alpha  \\text{$\\gamma $p}| +2 \\gamma -\\text{$\\gamma $d}}{2 \\gamma }\"\n",
    "start = initial.find(r\"\\text{\")\n",
    "while start != -1:\n",
    "    end = initial.find(r\"}\",start)\n",
    "    initial = initial[:end] + initial[end+1:]\n",
    "    initial = initial.replace(r\"$\",\"\",1)\n",
    "    initial = initial.replace(\" $\",\"_\",1)\n",
    "    initial = initial.replace(r\"\\text{\",\"\",1)\n",
    "    start = initial.find(r\"\\text{\")\n",
    "    \n",
    "\n",
    "initial = initial.replace(\"\\gamma_p\",\"\\GAMMA_P\")\n",
    "initial = initial.replace(\"\\gamma_a\",\"\\GAMMA_A\")\n",
    "initial = initial.replace(\"\\gamma_d\",\"\\GAMMA_D\")\n",
    "initial = initial.replace(\"\\gamma\",\"\\gp\")\n",
    "initial = initial.replace(\"\\GAMMA_P\",\"\\gamma_p\")\n",
    "initial = initial.replace(\"\\GAMMA_A\",\"\\gamma_a\")\n",
    "initial = initial.replace(\"\\GAMMA_D\",\"\\gamma_d\")\n",
    "print(initial)"
   ]
  },
  {
   "cell_type": "code",
   "execution_count": null,
   "id": "f935610c",
   "metadata": {},
   "outputs": [],
   "source": []
  }
 ],
 "metadata": {
  "kernelspec": {
   "display_name": "Python 3 (ipykernel)",
   "language": "python",
   "name": "python3"
  },
  "language_info": {
   "codemirror_mode": {
    "name": "ipython",
    "version": 3
   },
   "file_extension": ".py",
   "mimetype": "text/x-python",
   "name": "python",
   "nbconvert_exporter": "python",
   "pygments_lexer": "ipython3",
   "version": "3.10.8"
  }
 },
 "nbformat": 4,
 "nbformat_minor": 5
}
