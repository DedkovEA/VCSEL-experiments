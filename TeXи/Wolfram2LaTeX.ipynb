{
 "cells": [
  {
   "cell_type": "code",
   "execution_count": 64,
   "id": "3f5471a1",
   "metadata": {},
   "outputs": [
    {
     "name": "stdout",
     "output_type": "stream",
     "text": [
      "(\\gamma_a+\\kappa ) \\sqrt{\\frac{\\gp ^2 \\kappa ^2 \\left(\\gamma_a^2 \\left(4 \\left(\\alpha ^2-8\\right) \\gamma_p^2+12 \\alpha  \\gamma_p (2 \\gamma_a-\\gamma_d)+(\\gamma_d-2 \\gamma_a)^2\\right)+2 \\gamma_a \\kappa  \\left(4 \\left(\\alpha ^2+4\\right) \\gamma_p^2+4 \\alpha  \\gamma_p (2 \\gamma_a-\\gamma_d)+(\\gamma_d-2 \\gamma_a)^2\\right)+\\kappa ^2 (2 \\alpha  \\gamma_p-2 \\gamma_a+\\gamma_d)^2\\right)}{(\\gamma_a+\\kappa )^2}}\n"
     ]
    }
   ],
   "source": [
    "initial = r\"(\\text{$\\gamma $a}+\\kappa ) \\sqrt{\\frac{\\gamma ^2 \\kappa ^2 \\left(\\text{$\\gamma $a}^2 \\left(4 \\left(\\alpha ^2-8\\right) \\text{$\\gamma $p}^2+12 \\alpha  \\text{$\\gamma $p} (2 \\text{$\\gamma $a}-\\text{$\\gamma $d})+(\\text{$\\gamma $d}-2 \\text{$\\gamma $a})^2\\right)+2 \\text{$\\gamma $a} \\kappa  \\left(4 \\left(\\alpha ^2+4\\right) \\text{$\\gamma $p}^2+4 \\alpha  \\text{$\\gamma $p} (2 \\text{$\\gamma $a}-\\text{$\\gamma $d})+(\\text{$\\gamma $d}-2 \\text{$\\gamma $a})^2\\right)+\\kappa ^2 (2 \\alpha  \\text{$\\gamma $p}-2 \\text{$\\gamma $a}+\\text{$\\gamma $d})^2\\right)}{(\\text{$\\gamma $a}+\\kappa )^2}}\"\n",
    "start = initial.find(r\"\\text{\")\n",
    "while start != -1:\n",
    "    end = initial.find(r\"}\",start)\n",
    "    initial = initial[:end] + initial[end+1:]\n",
    "    initial = initial.replace(r\"$\",\"\",1)\n",
    "    initial = initial.replace(\" $\",\"_\",1)\n",
    "    initial = initial.replace(r\"\\text{\",\"\",1)\n",
    "    start = initial.find(r\"\\text{\")\n",
    "    \n",
    "\n",
    "initial = initial.replace(\"\\gamma_p\",\"\\GAMMA_P\")\n",
    "initial = initial.replace(\"\\gamma_a\",\"\\GAMMA_A\")\n",
    "initial = initial.replace(\"\\gamma_d\",\"\\GAMMA_D\")\n",
    "initial = initial.replace(\"\\gamma\",\"\\gp\")\n",
    "initial = initial.replace(\"\\GAMMA_P\",\"\\gamma_p\")\n",
    "initial = initial.replace(\"\\GAMMA_A\",\"\\gamma_a\")\n",
    "initial = initial.replace(\"\\GAMMA_D\",\"\\gamma_d\")\n",
    "print(initial)"
   ]
  },
  {
   "cell_type": "code",
   "execution_count": null,
   "id": "f935610c",
   "metadata": {},
   "outputs": [],
   "source": []
  }
 ],
 "metadata": {
  "kernelspec": {
   "display_name": "Python 3 (ipykernel)",
   "language": "python",
   "name": "python3"
  },
  "language_info": {
   "codemirror_mode": {
    "name": "ipython",
    "version": 3
   },
   "file_extension": ".py",
   "mimetype": "text/x-python",
   "name": "python",
   "nbconvert_exporter": "python",
   "pygments_lexer": "ipython3",
   "version": "3.9.7"
  }
 },
 "nbformat": 4,
 "nbformat_minor": 5
}
