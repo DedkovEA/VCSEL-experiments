{
 "cells": [
  {
   "cell_type": "code",
   "execution_count": 1,
   "id": "3f5471a1",
   "metadata": {},
   "outputs": [
    {
     "name": "stdout",
     "output_type": "stream",
     "text": [
      "\\left\\{\\frac{\\varepsilon  e^{-\\frac{i t \\left(\\sqrt{4 \\varepsilon ^2+(\\omega_1-\\omega_2)^2}+\\omega_1+\\omega_2\\right)}{2 \\hbar }} \\left(1-e^{\\frac{i t \\sqrt{4 \\varepsilon ^2+(\\omega_1-\\omega_2)^2}}{\\hbar }}\\right)}{\\sqrt{4 \\varepsilon ^2+(\\omega_1-\\omega_2)^2}},\\frac{e^{-\\frac{i t \\left(\\sqrt{4 \\varepsilon ^2+(\\omega_1-\\omega_2)^2}+\\omega_1+\\omega_2\\right)}{2 \\hbar }} \\left(\\sqrt{4 \\varepsilon ^2+(\\omega_1-\\omega_2)^2}+\\omega_1 \\left(-1+e^{\\frac{i t \\sqrt{4 \\varepsilon ^2+(\\omega_1-\\omega_2)^2}}{\\hbar }}\\right)+\\left(\\sqrt{4 \\varepsilon ^2+(\\omega_1-\\omega_2)^2}-\\omega_2\\right) e^{\\frac{i t \\sqrt{4 \\varepsilon ^2+(\\omega_1-\\omega_2)^2}}{\\hbar }}+\\omega_2\\right)}{2 \\sqrt{4 \\varepsilon ^2+(\\omega_1-\\omega_2)^2}}\\right\\}\n"
     ]
    }
   ],
   "source": [
    "initial = r\"\\left\\{\\frac{\\varepsilon  e^{-\\frac{i t \\left(\\sqrt{4 \\varepsilon ^2+(\\text{$\\omega $1}-\\text{$\\omega $2})^2}+\\text{$\\omega $1}+\\text{$\\omega $2}\\right)}{2 \\hbar }} \\left(1-e^{\\frac{i t \\sqrt{4 \\varepsilon ^2+(\\text{$\\omega $1}-\\text{$\\omega $2})^2}}{\\hbar }}\\right)}{\\sqrt{4 \\varepsilon ^2+(\\text{$\\omega $1}-\\text{$\\omega $2})^2}},\\frac{e^{-\\frac{i t \\left(\\sqrt{4 \\varepsilon ^2+(\\text{$\\omega $1}-\\text{$\\omega $2})^2}+\\text{$\\omega $1}+\\text{$\\omega $2}\\right)}{2 \\hbar }} \\left(\\sqrt{4 \\varepsilon ^2+(\\text{$\\omega $1}-\\text{$\\omega $2})^2}+\\text{$\\omega $1} \\left(-1+e^{\\frac{i t \\sqrt{4 \\varepsilon ^2+(\\text{$\\omega $1}-\\text{$\\omega $2})^2}}{\\hbar }}\\right)+\\left(\\sqrt{4 \\varepsilon ^2+(\\text{$\\omega $1}-\\text{$\\omega $2})^2}-\\text{$\\omega $2}\\right) e^{\\frac{i t \\sqrt{4 \\varepsilon ^2+(\\text{$\\omega $1}-\\text{$\\omega $2})^2}}{\\hbar }}+\\text{$\\omega $2}\\right)}{2 \\sqrt{4 \\varepsilon ^2+(\\text{$\\omega $1}-\\text{$\\omega $2})^2}}\\right\\}\"\n",
    "start = initial.find(r\"\\text{\")\n",
    "while start != -1:\n",
    "    end = initial.find(r\"}\",start)\n",
    "    initial = initial[:end] + initial[end+1:]\n",
    "    initial = initial.replace(r\"$\",\"\",1)\n",
    "    initial = initial.replace(\" $\",\"_\",1)\n",
    "    initial = initial.replace(r\"\\text{\",\"\",1)\n",
    "    start = initial.find(r\"\\text{\")\n",
    "    \n",
    "\n",
    "initial = initial.replace(\"\\gamma_p\",\"\\GAMMA_P\")\n",
    "initial = initial.replace(\"\\gamma_a\",\"\\GAMMA_A\")\n",
    "initial = initial.replace(\"\\gamma_d\",\"\\GAMMA_D\")\n",
    "initial = initial.replace(\"\\gamma\",\"\\gp\")\n",
    "initial = initial.replace(\"\\GAMMA_P\",\"\\gamma_p\")\n",
    "initial = initial.replace(\"\\GAMMA_A\",\"\\gamma_a\")\n",
    "initial = initial.replace(\"\\GAMMA_D\",\"\\gamma_d\")\n",
    "print(initial)"
   ]
  },
  {
   "cell_type": "code",
   "execution_count": null,
   "id": "f935610c",
   "metadata": {},
   "outputs": [],
   "source": []
  }
 ],
 "metadata": {
  "kernelspec": {
   "display_name": "Python 3 (ipykernel)",
   "language": "python",
   "name": "python3"
  },
  "language_info": {
   "codemirror_mode": {
    "name": "ipython",
    "version": 3
   },
   "file_extension": ".py",
   "mimetype": "text/x-python",
   "name": "python",
   "nbconvert_exporter": "python",
   "pygments_lexer": "ipython3",
   "version": "3.9.7"
  }
 },
 "nbformat": 4,
 "nbformat_minor": 5
}
