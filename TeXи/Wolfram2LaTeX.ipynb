{
 "cells": [
  {
   "cell_type": "code",
   "execution_count": 1,
   "id": "3f5471a1",
   "metadata": {},
   "outputs": [
    {
     "name": "stdout",
     "output_type": "stream",
     "text": [
      "Qp-\\frac{(\\mu -1) \\left(\\alpha  \\gamma_a-\\gamma_p+\\frac{\\sqrt{(\\alpha  \\gamma_p+\\gamma_a)^2 \\left(\\left(\\gamma_a^2+\\gamma_p^2\\right)^2 \\left(\\gamma_d (\\mu -1)+4 \\gp  Qp^2\\right)^2-8 \\gp  \\gamma_p \\mu  Qp \\left(2 \\gp  \\gamma_a \\mu  Qp (\\gamma_p-\\alpha  \\gamma_a) (\\alpha  \\gamma_p+\\gamma_a)-\\left(\\gamma_a^2+\\gamma_p^2\\right) (-\\mu +2 Qp+1) (\\alpha  \\gamma_a-\\gamma_p) (\\gamma_d+2 \\gp  Qp)\\right)\\right)}-\\left(\\gamma_a^2+\\gamma_p^2\\right) (\\alpha  \\gamma_p+\\gamma_a) \\left(\\gamma_d (\\mu -1)+4 \\gp  Qp^2\\right)}{4 \\gp  \\gamma_p \\mu  Qp (\\alpha  \\gamma_p+\\gamma_a)}\\right)}{2 \\alpha  \\gamma_a-2 \\gamma_p}\n"
     ]
    }
   ],
   "source": [
    "initial = r\"\\text{Qp}-\\frac{(\\mu -1) \\left(\\alpha  \\text{$\\gamma $a}-\\text{$\\gamma $p}+\\frac{\\sqrt{(\\alpha  \\text{$\\gamma $p}+\\text{$\\gamma $a})^2 \\left(\\left(\\text{$\\gamma $a}^2+\\text{$\\gamma $p}^2\\right)^2 \\left(\\text{$\\gamma $d} (\\mu -1)+4 \\gamma  \\text{Qp}^2\\right)^2-8 \\gamma  \\text{$\\gamma $p} \\mu  \\text{Qp} \\left(2 \\gamma  \\text{$\\gamma $a} \\mu  \\text{Qp} (\\text{$\\gamma $p}-\\alpha  \\text{$\\gamma $a}) (\\alpha  \\text{$\\gamma $p}+\\text{$\\gamma $a})-\\left(\\text{$\\gamma $a}^2+\\text{$\\gamma $p}^2\\right) (-\\mu +2 \\text{Qp}+1) (\\alpha  \\text{$\\gamma $a}-\\text{$\\gamma $p}) (\\text{$\\gamma $d}+2 \\gamma  \\text{Qp})\\right)\\right)}-\\left(\\text{$\\gamma $a}^2+\\text{$\\gamma $p}^2\\right) (\\alpha  \\text{$\\gamma $p}+\\text{$\\gamma $a}) \\left(\\text{$\\gamma $d} (\\mu -1)+4 \\gamma  \\text{Qp}^2\\right)}{4 \\gamma  \\text{$\\gamma $p} \\mu  \\text{Qp} (\\alpha  \\text{$\\gamma $p}+\\text{$\\gamma $a})}\\right)}{2 \\alpha  \\text{$\\gamma $a}-2 \\text{$\\gamma $p}}\"\n",
    "start = initial.find(r\"\\text{\")\n",
    "while start != -1:\n",
    "    end = initial.find(r\"}\",start)\n",
    "    initial = initial[:end] + initial[end+1:]\n",
    "    initial = initial.replace(r\"$\",\"\",1)\n",
    "    initial = initial.replace(\" $\",\"_\",1)\n",
    "    initial = initial.replace(r\"\\text{\",\"\",1)\n",
    "    start = initial.find(r\"\\text{\")\n",
    "    \n",
    "\n",
    "initial = initial.replace(\"\\gamma_p\",\"\\GAMMA_P\")\n",
    "initial = initial.replace(\"\\gamma_a\",\"\\GAMMA_A\")\n",
    "initial = initial.replace(\"\\gamma_d\",\"\\GAMMA_D\")\n",
    "initial = initial.replace(\"\\gamma\",\"\\gp\")\n",
    "initial = initial.replace(\"\\GAMMA_P\",\"\\gamma_p\")\n",
    "initial = initial.replace(\"\\GAMMA_A\",\"\\gamma_a\")\n",
    "initial = initial.replace(\"\\GAMMA_D\",\"\\gamma_d\")\n",
    "print(initial)"
   ]
  },
  {
   "cell_type": "code",
   "execution_count": null,
   "id": "f935610c",
   "metadata": {},
   "outputs": [],
   "source": []
  }
 ],
 "metadata": {
  "kernelspec": {
   "display_name": "Python 3 (ipykernel)",
   "language": "python",
   "name": "python3"
  },
  "language_info": {
   "codemirror_mode": {
    "name": "ipython",
    "version": 3
   },
   "file_extension": ".py",
   "mimetype": "text/x-python",
   "name": "python",
   "nbconvert_exporter": "python",
   "pygments_lexer": "ipython3",
   "version": "3.10.8"
  }
 },
 "nbformat": 4,
 "nbformat_minor": 5
}
